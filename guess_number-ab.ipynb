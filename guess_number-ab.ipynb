{
 "cells": [
  {
   "cell_type": "code",
   "execution_count": 6,
   "metadata": {},
   "outputs": [
    {
     "name": "stdout",
     "output_type": "stream",
     "text": [
      "[5, 3, 2, 9] (測試中)\n",
      "您猜得是：5319\n",
      "猜測結果為：3A0B, 請再接再厲！\n",
      "您猜得是：1236\n",
      "猜測結果為：0A2B, 請再接再厲！\n",
      "您猜得是：5329\n",
      "恭喜答對！正確答案為： 5329\n"
     ]
    }
   ],
   "source": [
    "import random\n",
    "\n",
    "answer = random.sample(range(1, 10), 4)\n",
    "print(answer, '(測試中)')\n",
    "\n",
    "while True:\n",
    "    quess = input('請猜一個不包含零且不重複的四位數,例如1234:')\n",
    "    print(f'您猜得是：{quess}')\n",
    "    a = b = 0\n",
    "    qes = [int(n) for n in list(quess)]\n",
    "    \n",
    "    # check \n",
    "    for i in range(4):\n",
    "        if qes[i] in answer:\n",
    "            if qes[i] == answer[i]:\n",
    "                a += 1\n",
    "            else:\n",
    "                b += 1\n",
    "    if a == 4:\n",
    "        print('恭喜答對！正確答案為：', ''.join([str(n) for n in answer]))\n",
    "        break\n",
    "    \n",
    "    print(f'猜測結果為：{a}A{b}B, 請再接再厲！')\n"
   ]
  }
 ],
 "metadata": {
  "kernelspec": {
   "display_name": "Python 3.10.4 ('venv': venv)",
   "language": "python",
   "name": "python3"
  },
  "language_info": {
   "codemirror_mode": {
    "name": "ipython",
    "version": 3
   },
   "file_extension": ".py",
   "mimetype": "text/x-python",
   "name": "python",
   "nbconvert_exporter": "python",
   "pygments_lexer": "ipython3",
   "version": "3.10.4"
  },
  "orig_nbformat": 4,
  "vscode": {
   "interpreter": {
    "hash": "f823beb7319f0ab632615702665d5de8e59b6faaf6804c4be2abe7c025d4d47e"
   }
  }
 },
 "nbformat": 4,
 "nbformat_minor": 2
}
