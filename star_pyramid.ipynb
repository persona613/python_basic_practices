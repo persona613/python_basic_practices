{
 "cells": [
  {
   "cell_type": "code",
   "execution_count": 1,
   "metadata": {},
   "outputs": [
    {
     "name": "stdout",
     "output_type": "stream",
     "text": [
      "*\n",
      "**\n",
      "***\n",
      "****\n",
      "*****\n",
      "******\n",
      "*******\n",
      "********\n",
      "*********\n",
      "**********\n",
      "***********\n",
      "************\n",
      "*************\n",
      "**************\n"
     ]
    }
   ],
   "source": [
    "# loop star\n",
    "a = 15\n",
    "for i in range(1,a):\n",
    "    print('*'*i)\n",
    "    "
   ]
  },
  {
   "cell_type": "code",
   "execution_count": 2,
   "metadata": {},
   "outputs": [
    {
     "name": "stdout",
     "output_type": "stream",
     "text": [
      "             *             \n",
      "            ***            \n",
      "           *****           \n",
      "          *******          \n",
      "         *********         \n",
      "        ***********        \n",
      "       *************       \n",
      "      ***************      \n",
      "     *****************     \n",
      "    *******************    \n",
      "   *********************   \n",
      "  ***********************  \n",
      " ************************* \n",
      "***************************\n"
     ]
    }
   ],
   "source": [
    "# star pyramid\n",
    "a = 15\n",
    "for i in range(1, a):\n",
    "    d = 2\n",
    "    x = '*' * (1+i*d-2)\n",
    "    print(f'{x:^27s}')\n",
    "    "
   ]
  }
 ],
 "metadata": {
  "kernelspec": {
   "display_name": "Python 3.10.4 ('venv': venv)",
   "language": "python",
   "name": "python3"
  },
  "language_info": {
   "codemirror_mode": {
    "name": "ipython",
    "version": 3
   },
   "file_extension": ".py",
   "mimetype": "text/x-python",
   "name": "python",
   "nbconvert_exporter": "python",
   "pygments_lexer": "ipython3",
   "version": "3.10.4"
  },
  "orig_nbformat": 4,
  "vscode": {
   "interpreter": {
    "hash": "f823beb7319f0ab632615702665d5de8e59b6faaf6804c4be2abe7c025d4d47e"
   }
  }
 },
 "nbformat": 4,
 "nbformat_minor": 2
}
